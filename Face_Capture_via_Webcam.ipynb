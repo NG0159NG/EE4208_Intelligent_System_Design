{
 "cells": [
  {
   "cell_type": "markdown",
   "id": "funded-finger",
   "metadata": {},
   "source": [
    "# Capture faces via webcam\n",
    "\n",
    "## Instructions to use:\n",
    "\n",
    "1. Run the cell.\n",
    "2. Input name in lower case without spacing. If spacing is required, use underscore instead.\n",
    "3. Take these 5 face expressions:\n",
    "        - No glasses, no smile.\n",
    "        - No glasses, smile, no show teeth.\n",
    "        - No glasses, smile, show teeth.\n",
    "        - Wear glasses, no smile.\n",
    "        - Wear glasses, smile, show teeth.\n",
    "4. Position face in front of webcam so that \"FACE\" and \"EYES\" are detected. Then press \"spacebar\" to capture face image.\n",
    "5. Repeat step 3 for other face expressions.\n",
    "6. Press \"ESC\" to capture different person face.\n",
    "7. Colored face images with roi will be saved in \"ROI_Faces\" folder.\n",
    "8. Grayscale face images without roi, with size (100,100) will be saved in \"Grayscale_Faces\" folder for training the face recognizer.\n",
    "9. Colored face images without roi, with size (224,224) will be saved in \"Color_Faces\" folder for training the face recognizer."
   ]
  },
  {
   "cell_type": "code",
   "execution_count": 6,
   "id": "spoken-mediterranean",
   "metadata": {},
   "outputs": [
    {
     "name": "stdout",
     "output_type": "stream",
     "text": [
      "\n",
      " Enter name and press <enter> ==>  wang_jue\n",
      "\n",
      " Look at camera and press <spacebar> to take picture\n",
      "Shot 1 is taken!\n",
      "Shot 2 is taken!\n",
      "Shot 3 is taken!\n",
      "Shot 4 is taken!\n",
      "Shot 5 is taken!\n"
     ]
    }
   ],
   "source": [
    "import os, sys\n",
    "import cv2\n",
    "from PIL import Image\n",
    "import numpy as np\n",
    "import pickle\n",
    "import time\n",
    "import matplotlib.pyplot as plt\n",
    "%matplotlib inline\n",
    "\n",
    "# Take face shots via webcam to create face database\n",
    "cam = cv2.VideoCapture(0)\n",
    "cam.set(3, 640) # set video width\n",
    "cam.set(4, 480) # set video height\n",
    "face_detector = cv2.CascadeClassifier('haarcascade_frontalface_default.xml')\n",
    "eyes_detector = cv2.CascadeClassifier('haarcascade_eye.xml')\n",
    "eyes_glasses_detector = cv2.CascadeClassifier('haarcascade_eye_tree_eyeglasses.xml')\n",
    "# For each person, enter one numeric face id\n",
    "user_name = input('\\n Enter name and press <enter> ==>  ')\n",
    "print(\"\\n Look at camera and press <spacebar> to take picture\")\n",
    "# Initialize individual sampling face count\n",
    "count = 1\n",
    "while(True):\n",
    "    ret, img = cam.read()\n",
    "    img = cv2.flip(img, 1) # flip video image vertically\n",
    "    gray = cv2.cvtColor(img, cv2.COLOR_BGR2GRAY)\n",
    "    faces = face_detector.detectMultiScale(gray, scaleFactor=1.2, minNeighbors=5, minSize=(5,5))\n",
    "    for (x,y,w,h) in faces:\n",
    "        cv2.rectangle(img, (x,y), (x+w,y+h), (255,0,0), 2)\n",
    "        roi_gray = gray[y:y+h, x:x+w]\n",
    "        roi_color = img[y:y+h, x:x+w]\n",
    "        resized_color = cv2.resize(img[y:y+h,x:x+w], dsize=(224,224), interpolation=cv2.INTER_AREA)\n",
    "        eyes = eyes_glasses_detector.detectMultiScale(roi_gray, scaleFactor=1.2, minNeighbors=5, minSize=(5,5));\n",
    "        for (ex, ey, ew, eh) in eyes:\n",
    "            cv2.rectangle(roi_color, (ex, ey), (ex + ew, ey + eh), (0, 255, 0), 2)\n",
    "            #cv2.rectangle(roi_gray, (ex, ey), (ex + ew, ey + eh), (0, 255, 0), 2)\n",
    "        resized_gray = cv2.resize(gray[y:y+h,x:x+w], dsize=(100,100), interpolation=cv2.INTER_AREA)\n",
    "        \n",
    "    k = cv2.waitKey(1) & 0xff # Press 'ESC' for exiting video\n",
    "    if k == 27:\n",
    "        break\n",
    "    elif k == 32: #if spacebar is pressed\n",
    "        # Save the captured image into the datasets folder\n",
    "        cv2.imwrite(\"ROI_Faces/User.\" + str(user_name).lower() + \".\" + str(count) + \".jpg\", roi_color)\n",
    "        cv2.imwrite(\"Grayscale_Faces/User.\" + str(user_name).lower() + '.'+ str(count) + \".jpg\", resized_gray)\n",
    "        cv2.imwrite(\"Color_Faces/User.\" + str(user_name).lower() + '.' + str(count) + \".jpg\", resized_color)\n",
    "        print(\"Shot {} is taken!\".format(count))\n",
    "        count += 1  \n",
    "    cv2.imshow('image', img)\n",
    "\n",
    "cam.release()\n",
    "cv2.destroyAllWindows()"
   ]
  },
  {
   "cell_type": "code",
   "execution_count": null,
   "id": "manual-lighter",
   "metadata": {},
   "outputs": [],
   "source": []
  }
 ],
 "metadata": {
  "kernelspec": {
   "display_name": "Python 3",
   "language": "python",
   "name": "python3"
  },
  "language_info": {
   "codemirror_mode": {
    "name": "ipython",
    "version": 3
   },
   "file_extension": ".py",
   "mimetype": "text/x-python",
   "name": "python",
   "nbconvert_exporter": "python",
   "pygments_lexer": "ipython3",
   "version": "3.6.13"
  }
 },
 "nbformat": 4,
 "nbformat_minor": 5
}
