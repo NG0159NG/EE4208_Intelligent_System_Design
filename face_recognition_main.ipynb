{
 "cells": [
  {
   "cell_type": "markdown",
   "id": "plastic-wheat",
   "metadata": {},
   "source": [
    "# Demo!"
   ]
  },
  {
   "cell_type": "code",
   "execution_count": 1,
   "id": "molecular-cooling",
   "metadata": {},
   "outputs": [],
   "source": [
    "import face_functions as ff"
   ]
  },
  {
   "cell_type": "code",
   "execution_count": 2,
   "id": "outside-crazy",
   "metadata": {},
   "outputs": [
    {
     "name": "stdout",
     "output_type": "stream",
     "text": [
      "\n",
      " Are you wearing mask? Enter <yes> or <no> ==>  yes\n"
     ]
    }
   ],
   "source": [
    "# Real Time Face Recognition using LBPH Face recognizer.\n",
    "check_mask = input('\\n Are you wearing mask? Enter <yes> or <no> ==>  ')\n",
    "if check_mask.lower() == 'yes':\n",
    "    ff.face_mask_recognition()\n",
    "else:\n",
    "    ff.face_recognition()"
   ]
  },
  {
   "cell_type": "markdown",
   "id": "conscious-illustration",
   "metadata": {},
   "source": [
    "# Training..."
   ]
  },
  {
   "cell_type": "code",
   "execution_count": null,
   "id": "checked-bennett",
   "metadata": {},
   "outputs": [],
   "source": [
    "# Load labelled face datasets\n",
    "face, labels, name_label_dict = ff.get_faces_labels()\n",
    "print(face.shape)\n",
    "print(labels.shape)\n",
    "print(name_label_dict)"
   ]
  },
  {
   "cell_type": "code",
   "execution_count": null,
   "id": "informal-clark",
   "metadata": {},
   "outputs": [],
   "source": [
    "# Train face recognizer and save trained recognizer.\n",
    "face_recognizer = cv2.face.LBPHFaceRecognizer_create()\n",
    "#face_recognizer = cv2.face.EigenFaceRecognizer_create()\n",
    "#face_recognizer = cv2.face.FisherFaceRecognizer_create()\n",
    "face_recognizer.train(face, labels)\n",
    "face_recognizer.save(\"LBPH_Face_Recognizer.yml\")"
   ]
  }
 ],
 "metadata": {
  "kernelspec": {
   "display_name": "Python 3",
   "language": "python",
   "name": "python3"
  },
  "language_info": {
   "codemirror_mode": {
    "name": "ipython",
    "version": 3
   },
   "file_extension": ".py",
   "mimetype": "text/x-python",
   "name": "python",
   "nbconvert_exporter": "python",
   "pygments_lexer": "ipython3",
   "version": "3.7.7"
  }
 },
 "nbformat": 4,
 "nbformat_minor": 5
}
