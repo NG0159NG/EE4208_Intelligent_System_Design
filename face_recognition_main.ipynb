{
 "cells": [
  {
   "cell_type": "markdown",
   "id": "plastic-wheat",
   "metadata": {},
   "source": [
    "# Demo!"
   ]
  },
  {
   "cell_type": "code",
   "execution_count": 1,
   "id": "molecular-cooling",
   "metadata": {},
   "outputs": [
    {
     "name": "stderr",
     "output_type": "stream",
     "text": [
      "Using TensorFlow backend.\n"
     ]
    }
   ],
   "source": [
    "#### Import dependencies\n",
    "import face_functions as ff\n",
    "\n",
    "import os, sys\n",
    "import cv2\n",
    "from PIL import Image\n",
    "import numpy as np\n",
    "import pickle\n",
    "import time\n",
    "import matplotlib.pyplot as plt\n",
    "import scipy\n",
    "from scipy import linalg\n",
    "from sklearn.model_selection import train_test_split\n",
    "from sklearn.model_selection import GridSearchCV\n",
    "from sklearn.metrics import classification_report\n",
    "from sklearn.metrics import confusion_matrix\n",
    "import tensorflow as tf\n",
    "import keras\n",
    "from keras_vggface.vggface import VGGFace\n",
    "from keras.callbacks import ModelCheckpoint\n",
    "from keras.models import load_model\n",
    "from keras_vggface import utils\n",
    "%matplotlib inline"
   ]
  },
  {
   "cell_type": "code",
   "execution_count": 2,
   "id": "standing-software",
   "metadata": {},
   "outputs": [
    {
     "name": "stdout",
     "output_type": "stream",
     "text": [
      "(15, 2622)\n"
     ]
    }
   ],
   "source": [
    "# Load Face Encoding\n",
    "with open('face_encoding.pickle', 'rb') as face_array:\n",
    "    face_encoding = pickle.load(face_array)\n",
    "print(face_encoding.shape)"
   ]
  },
  {
   "cell_type": "code",
   "execution_count": 3,
   "id": "effective-pilot",
   "metadata": {},
   "outputs": [
    {
     "name": "stdout",
     "output_type": "stream",
     "text": [
      "['Peter' 'Peter' 'Peter' 'Peter' 'Peter' 'Wang_Jue' 'Wang_Jue' 'Wang_Jue'\n",
      " 'Wang_Jue' 'Wang_Jue' 'Yi_Rong' 'Yi_Rong' 'Yi_Rong' 'Yi_Rong' 'Yi_Rong']\n"
     ]
    }
   ],
   "source": [
    "# Load Name Array\n",
    "with open('name_array.pickle', 'rb') as name:\n",
    "    name_array = pickle.load(name)\n",
    "print(name_array)"
   ]
  },
  {
   "cell_type": "code",
   "execution_count": 4,
   "id": "exposed-dollar",
   "metadata": {},
   "outputs": [
    {
     "name": "stderr",
     "output_type": "stream",
     "text": [
      "C:\\Users\\Yirong\\miniconda3\\envs\\python36_vggface\\lib\\site-packages\\keras\\engine\\saving.py:341: UserWarning: No training configuration found in save file: the model was *not* compiled. Compile it manually.\n",
      "  warnings.warn('No training configuration found in save file: '\n"
     ]
    }
   ],
   "source": [
    "with open('vggface_model.pickle', 'rb') as vggface:\n",
    "    custom_vgg_model = pickle.load(vggface)"
   ]
  },
  {
   "cell_type": "code",
   "execution_count": 4,
   "id": "damaged-justice",
   "metadata": {},
   "outputs": [
    {
     "name": "stdout",
     "output_type": "stream",
     "text": [
      "covariance matrix shape (2622, 2622):  (2622, 2622)\n",
      "Calculaing top eigenvalues and corresponding eigenvectors...\n",
      "eigenvalues shape (m,):  (100,)\n",
      "eigenvectors shape (2622, m):  (2622, 100)\n",
      "Eigens Computation Done!\n",
      "eigenface shape (m,2622) (100, 2622)\n",
      "face_train (15,m):  (15, 100)\n"
     ]
    }
   ],
   "source": [
    "_, eigenvector, _, face_train, _ = ff.dimension_reduction(face_encoding)"
   ]
  },
  {
   "cell_type": "code",
   "execution_count": 5,
   "id": "waiting-sleeve",
   "metadata": {},
   "outputs": [
    {
     "name": "stderr",
     "output_type": "stream",
     "text": [
      "C:\\Users\\Yirong\\miniconda3\\envs\\python36_vggface\\lib\\site-packages\\keras\\engine\\saving.py:341: UserWarning: No training configuration found in save file: the model was *not* compiled. Compile it manually.\n",
      "  warnings.warn('No training configuration found in save file: '\n"
     ]
    },
    {
     "name": "stdout",
     "output_type": "stream",
     "text": [
      "Yi_Rong [0.01519662]\n",
      "Yi_Rong [0.01339686]\n",
      "Yi_Rong [0.02001494]\n",
      "Yi_Rong [0.01453251]\n",
      "Yi_Rong [0.01720017]\n",
      "Yi_Rong [0.02151638]\n",
      "Yi_Rong [0.02069008]\n",
      "Yi_Rong [0.01657635]\n",
      "Yi_Rong [0.01659077]\n",
      "Yi_Rong [0.02093625]\n",
      "Yi_Rong [0.01420504]\n",
      "Yi_Rong [0.01081431]\n",
      "Yi_Rong [0.0116384]\n",
      "Yi_Rong [0.01838458]\n",
      "Yi_Rong [0.03107351]\n",
      "Yi_Rong [0.04104435]\n",
      "Yi_Rong [0.05490786]\n",
      "Yi_Rong [0.05446786]\n",
      "Yi_Rong [0.06857234]\n",
      "Yi_Rong [0.07461292]\n",
      "Yi_Rong [0.06446218]\n",
      "Yi_Rong [0.06358683]\n",
      "Yi_Rong [0.05278796]\n",
      "Yi_Rong [0.05711138]\n",
      "Yi_Rong [0.05466419]\n",
      "Yi_Rong [0.05052954]\n",
      "Yi_Rong [0.05257314]\n",
      "Yi_Rong [0.05416393]\n",
      "Yi_Rong [0.07669067]\n",
      "Yi_Rong [0.07604504]\n",
      "Yi_Rong [0.07975709]\n",
      "Yi_Rong [0.07284588]\n",
      "Yi_Rong [0.06604654]\n",
      "Yi_Rong [0.06717408]\n",
      "Yi_Rong [0.06291384]\n",
      "Yi_Rong [0.06240439]\n",
      "Yi_Rong [0.07174695]\n",
      "Yi_Rong [0.05602747]\n",
      "Yi_Rong [0.069345]\n",
      "Yi_Rong [0.05164307]\n",
      "Wang_Jue [0.07893628]\n",
      "Wang_Jue [0.06922078]\n",
      "Wang_Jue [0.07960153]\n",
      "Wang_Jue [0.0864116]\n",
      "Wang_Jue [0.08965677]\n",
      "Unknown [0.32245904]\n",
      "Wang_Jue [0.06575471]\n",
      "Wang_Jue [0.06787753]\n",
      "Wang_Jue [0.06844532]\n",
      "Wang_Jue [0.07340729]\n",
      "Wang_Jue [0.07346934]\n",
      "Wang_Jue [0.07317752]\n",
      "Wang_Jue [0.06907433]\n",
      "Wang_Jue [0.06522989]\n",
      "Unknown [0.18172735]\n",
      "Wang_Jue [0.06682694]\n",
      "Wang_Jue [0.08198386]\n",
      "Wang_Jue [0.07751465]\n",
      "Wang_Jue [0.07752132]\n",
      "Yi_Rong [0.04681349]\n",
      "Yi_Rong [0.04584831]\n",
      "Yi_Rong [0.04488337]\n",
      "Yi_Rong [0.05003977]\n",
      "Yi_Rong [0.05719781]\n",
      "Wang_Jue [0.09395415]\n",
      "Wang_Jue [0.08887476]\n",
      "Yi_Rong [0.04321277]\n",
      "Yi_Rong [0.05291867]\n",
      "Yi_Rong [0.04186565]\n",
      "Unknown [0.14350325]\n",
      "Wang_Jue [0.09949917]\n",
      "Unknown [0.34320045]\n",
      "Unknown [0.33399165]\n",
      "Unknown [0.3387012]\n",
      "Unknown [0.3737479]\n",
      "Unknown [0.34757048]\n",
      "Unknown [0.36555833]\n",
      "Unknown [0.339809]\n",
      "Unknown [0.33113152]\n",
      "Unknown [0.3656314]\n",
      "Unknown [0.3741479]\n",
      "Unknown [0.3461823]\n",
      "Unknown [0.37449652]\n",
      "Unknown [0.37828845]\n",
      "Unknown [0.38448775]\n",
      "Unknown [0.367203]\n",
      "Unknown [0.34028596]\n",
      "Unknown [0.3851608]\n",
      "Unknown [0.3890832]\n",
      "Unknown [0.38368195]\n",
      "Unknown [0.36298573]\n",
      "Unknown [0.31341916]\n",
      "Unknown [0.28988975]\n",
      "Unknown [0.35254908]\n",
      "Wang_Jue [0.09226763]\n",
      "Unknown [0.34007442]\n",
      "Peter [0.08012182]\n",
      "Peter [0.06920636]\n",
      "Peter [0.06585807]\n",
      "Peter [0.0486623]\n",
      "Peter [0.05016828]\n",
      "Peter [0.06666148]\n",
      "Peter [0.06323963]\n",
      "Peter [0.07893693]\n",
      "Peter [0.07697976]\n",
      "Peter [0.08520317]\n",
      "Peter [0.07814944]\n",
      "Peter [0.07374448]\n",
      "Peter [0.0734005]\n",
      "Peter [0.06482381]\n",
      "Peter [0.08624285]\n",
      "Unknown [0.22466034]\n",
      "Peter [0.05746192]\n",
      "Peter [0.0516271]\n",
      "Peter [0.0529595]\n",
      "Peter [0.05410755]\n",
      "Peter [0.05907691]\n",
      "Peter [0.09382409]\n",
      "Peter [0.07261676]\n",
      "Yi_Rong [0.06468451]\n",
      "Peter [0.09847528]\n",
      "Unknown [0.31750786]\n",
      "Unknown [0.39066213]\n",
      "Unknown [0.32203954]\n",
      "Yi_Rong [0.05993736]\n",
      "Yi_Rong [0.06119472]\n",
      "Yi_Rong [0.05861372]\n",
      "Yi_Rong [0.06174582]\n",
      "Yi_Rong [0.07420164]\n",
      "Yi_Rong [0.06203288]\n",
      "Yi_Rong [0.05807251]\n",
      "Yi_Rong [0.05288142]\n",
      "Yi_Rong [0.06435007]\n",
      "Unknown [0.28290445]\n",
      "Yi_Rong [0.04785049]\n"
     ]
    }
   ],
   "source": [
    "# Real Time Face Recognition using VGGFace.\n",
    "ff.vgg_face_recognition(name_array, face_train, eigenvector)"
   ]
  },
  {
   "cell_type": "code",
   "execution_count": 5,
   "id": "outside-crazy",
   "metadata": {},
   "outputs": [
    {
     "name": "stdout",
     "output_type": "stream",
     "text": [
      "\n",
      " Are you wearing mask? Enter <yes> or <no> ==>  yes\n"
     ]
    }
   ],
   "source": [
    "# Real Time Face Recognition using LBPH Face recognizer.\n",
    "check_mask = input('\\n Are you wearing mask? Enter <yes> or <no> ==>  ')\n",
    "if check_mask.lower() == 'yes':\n",
    "    ff.face_mask_recognition()\n",
    "else:\n",
    "    ff.face_recognition()"
   ]
  },
  {
   "cell_type": "markdown",
   "id": "conscious-illustration",
   "metadata": {},
   "source": [
    "# Training..."
   ]
  },
  {
   "cell_type": "code",
   "execution_count": 3,
   "id": "checked-bennett",
   "metadata": {},
   "outputs": [
    {
     "name": "stdout",
     "output_type": "stream",
     "text": [
      "(50, 10000)\n",
      "(50,)\n",
      "{'bryan_lee': 0, 'bryan_lim': 1, 'edmund': 2, 'malvern': 3, 'peter': 4, 'terren': 5, 'wangjue': 6, 'yicheng': 7, 'yirong': 8, 'ziying': 9}\n"
     ]
    }
   ],
   "source": [
    "# Load labelled face datasets\n",
    "face, labels, name_label_dict = ff.get_faces_labels_pca()\n",
    "print(face.shape)\n",
    "print(labels.shape)\n",
    "print(name_label_dict)"
   ]
  },
  {
   "cell_type": "code",
   "execution_count": 6,
   "id": "informal-clark",
   "metadata": {},
   "outputs": [
    {
     "ename": "error",
     "evalue": "OpenCV(3.4.2) C:\\Miniconda3\\conda-bld\\opencv-suite_1534379934306\\work\\modules\\core\\src\\matrix.cpp:235: error: (-215:Assertion failed) s >= 0 in function 'cv::setSize'\n",
     "output_type": "error",
     "traceback": [
      "\u001b[1;31m---------------------------------------------------------------------------\u001b[0m",
      "\u001b[1;31merror\u001b[0m                                     Traceback (most recent call last)",
      "\u001b[1;32m<ipython-input-6-ce9e38288079>\u001b[0m in \u001b[0;36m<module>\u001b[1;34m\u001b[0m\n\u001b[0;32m      3\u001b[0m \u001b[1;31m#face_recognizer = cv2.face.EigenFaceRecognizer_create()\u001b[0m\u001b[1;33m\u001b[0m\u001b[1;33m\u001b[0m\u001b[1;33m\u001b[0m\u001b[0m\n\u001b[0;32m      4\u001b[0m \u001b[1;31m#face_recognizer = cv2.face.FisherFaceRecognizer_create()\u001b[0m\u001b[1;33m\u001b[0m\u001b[1;33m\u001b[0m\u001b[1;33m\u001b[0m\u001b[0m\n\u001b[1;32m----> 5\u001b[1;33m \u001b[0mface_recognizer\u001b[0m\u001b[1;33m.\u001b[0m\u001b[0mtrain\u001b[0m\u001b[1;33m(\u001b[0m\u001b[0mface\u001b[0m\u001b[1;33m,\u001b[0m \u001b[0mlabels\u001b[0m\u001b[1;33m)\u001b[0m\u001b[1;33m\u001b[0m\u001b[1;33m\u001b[0m\u001b[0m\n\u001b[0m\u001b[0;32m      6\u001b[0m \u001b[0mface_recognizer\u001b[0m\u001b[1;33m.\u001b[0m\u001b[0msave\u001b[0m\u001b[1;33m(\u001b[0m\u001b[1;34m\"LBPH_Face_Recognizer1.yml\"\u001b[0m\u001b[1;33m)\u001b[0m\u001b[1;33m\u001b[0m\u001b[1;33m\u001b[0m\u001b[0m\n",
      "\u001b[1;31merror\u001b[0m: OpenCV(3.4.2) C:\\Miniconda3\\conda-bld\\opencv-suite_1534379934306\\work\\modules\\core\\src\\matrix.cpp:235: error: (-215:Assertion failed) s >= 0 in function 'cv::setSize'\n"
     ]
    }
   ],
   "source": [
    "# Train face recognizer and save trained recognizer.\n",
    "face_recognizer = cv2.face.LBPHFaceRecognizer_create()\n",
    "#face_recognizer = cv2.face.EigenFaceRecognizer_create()\n",
    "#face_recognizer = cv2.face.FisherFaceRecognizer_create()\n",
    "face_recognizer.train(face, labels)\n",
    "face_recognizer.save(\"LBPH_Face_Recognizer.yml\")"
   ]
  },
  {
   "cell_type": "code",
   "execution_count": null,
   "id": "precious-mistress",
   "metadata": {},
   "outputs": [],
   "source": []
  }
 ],
 "metadata": {
  "kernelspec": {
   "display_name": "Python 3",
   "language": "python",
   "name": "python3"
  },
  "language_info": {
   "codemirror_mode": {
    "name": "ipython",
    "version": 3
   },
   "file_extension": ".py",
   "mimetype": "text/x-python",
   "name": "python",
   "nbconvert_exporter": "python",
   "pygments_lexer": "ipython3",
   "version": "3.6.13"
  }
 },
 "nbformat": 4,
 "nbformat_minor": 5
}
